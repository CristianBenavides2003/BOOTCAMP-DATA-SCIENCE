{
 "cells": [
  {
   "cell_type": "code",
   "execution_count": null,
   "id": "9ce33095",
   "metadata": {},
   "outputs": [],
   "source": [
    "import pandas as pd\n",
    "\n",
    "\"\"\"\n",
    "#SERIES: ARREGLO UNIDIMENSIONAL ETIQUETADO \n",
    "#DATAFRAME: ESRTUCTURA BIDIMENSIONAL TIPO TABLA\n",
    "#INDICES: ETIQUETAS PARA ACCEDER A LOS DATOS\n",
    "OPERACIONES BASICAS: FILTRADO, SELECCION, ORDENAMIENTO\n",
    "\n",
    "#serie\n",
    "edades=pd.Series([25,20,23,20],name=\"edades\")\n",
    "#dataframe\n",
    "data={\n",
    "    'Nombre':['Camilo Arias','Eduardo Rojas','Vini Jr','lac hupa'],\n",
    "    'Edad':[22,48,56,11],\n",
    "    'Ciudad':['Madrid','Valledupar','Sogamoso','La paz']\n",
    "\n",
    "}\n",
    "df=pd.DataFrame(data)\n",
    "##print(df)\n",
    "#print(df[['Nombre','Ciudad']])\n",
    "\n",
    "#importar archivos excel\"\"\"\n",
    "\n",
    "shabits=pd.read_csv('.\\student_habits_performance.csv')#base de datos de habitos estudiantiles\n",
    "\n",
    "print('Shape / Forma:', shabits.shape)  # Forma del dataset (filas, columnas)\n",
    "print('\\nINFORMACION-------------: ')\n",
    "shabits.info() # Información de como está construido el dataset\n",
    "print('\\nDECRIPCION--------------: ')\n",
    "print(shabits.describe())\n",
    "\n",
    "print('\\nVER COLUMNAS ESPECIFICAS--------------: ')\n",
    "print(\"student_id  - age - study_hours_per_day\")\n",
    "shabits.head()\n",
    "print(shabits[['student_id','age','gender']])\n",
    "\n",
    "print('\\nFILTRO-------------: ')\n",
    "print('Estudiantes hombre mayores de 20 años que estudiaron mas de 2 horas al dia')\n",
    "print(shabits[(shabits['age']>20) & (shabits['gender']=='Male') & (shabits['study_hours_per_day']>2)])\n",
    "\n",
    "print('\\nORDENAMIENTO POR EDADES-------------: ')\n",
    "print(shabits.sort_values(by='age',ascending=False))"
   ]
  }
 ],
 "metadata": {
  "kernelspec": {
   "display_name": "Python 3",
   "language": "python",
   "name": "python3"
  },
  "language_info": {
   "codemirror_mode": {
    "name": "ipython",
    "version": 3
   },
   "file_extension": ".py",
   "mimetype": "text/x-python",
   "name": "python",
   "nbconvert_exporter": "python",
   "pygments_lexer": "ipython3",
   "version": "3.10.7"
  }
 },
 "nbformat": 4,
 "nbformat_minor": 5
}
