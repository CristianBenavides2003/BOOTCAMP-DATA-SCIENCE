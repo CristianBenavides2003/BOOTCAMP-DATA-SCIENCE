{
 "cells": [
  {
   "cell_type": "code",
   "execution_count": null,
   "id": "b235ed2e",
   "metadata": {},
   "outputs": [],
   "source": [
    "import pandas as pd\n",
    "import numpy as np\n",
    "import matplotlib.pyplot as plt\n",
    "import seaborn as sns\n",
    "\n",
    "from sklearn.preprocessing import StandardScaler\n",
    "from sklearn.decomposition import PCA\n",
    "from sklearn.manifold import TSNE\n",
    "from sklearn.cluster import KMeans, DBSCAN\n",
    "from sklearn.metrics import silhouette_score\n",
    "\n",
    "df = pd.read_csv(\"SpotifyFeatures.csv\")  # O el nombre exacto que tenga tu archivo\n",
    "df.head()\n"
   ]
  },
  {
   "cell_type": "code",
   "execution_count": null,
   "id": "671b0c12",
   "metadata": {},
   "outputs": [],
   "source": [
    "df.info()\n"
   ]
  },
  {
   "cell_type": "code",
   "execution_count": null,
   "id": "e003fddb",
   "metadata": {},
   "outputs": [],
   "source": [
    "df.describe()"
   ]
  },
  {
   "cell_type": "code",
   "execution_count": null,
   "id": "2a3e103e",
   "metadata": {},
   "outputs": [],
   "source": [
    "plt.figure(figsize=(12,8))\n",
    "sns.heatmap(df.corr(numeric_only=True), annot=True, cmap=\"coolwarm\")\n",
    "plt.title(\"Mapa de Correlación\")\n",
    "plt.show()"
   ]
  },
  {
   "cell_type": "code",
   "execution_count": null,
   "id": "019dcd91",
   "metadata": {},
   "outputs": [],
   "source": [
    "#Normalizar las variables numericas\n",
    "numerical_cols = ['danceability', 'energy', 'loudness', 'speechiness', 'acousticness',\n",
    "                  'instrumentalness', 'liveness', 'valence', 'tempo', 'duration_ms']\n",
    "\n",
    "scaler = StandardScaler()\n",
    "X_scaled = scaler.fit_transform(df[numerical_cols])"
   ]
  },
  {
   "cell_type": "code",
   "execution_count": null,
   "id": "826c7646",
   "metadata": {},
   "outputs": [],
   "source": [
    "pca = PCA(n_components=2)\n",
    "X_pca = pca.fit_transform(X_scaled)\n",
    "\n",
    "plt.figure(figsize=(8,6))\n",
    "plt.scatter(X_pca[:,0], X_pca[:,1], alpha=0.5)\n",
    "plt.title(\"PCA - Visualización en 2D\")\n",
    "plt.xlabel(\"PC1\")\n",
    "plt.ylabel(\"PC2\")\n",
    "plt.grid(True)\n",
    "plt.show()\n",
    "\n",
    "print(\"Varianza explicada por PCA:\", pca.explained_variance_ratio_)\n",
    "\n",
    "tsne = TSNE(n_components=2, perplexity=30, random_state=42)\n",
    "X_tsne = tsne.fit_transform(X_scaled)\n",
    "\n",
    "plt.figure(figsize=(8,6))\n",
    "plt.scatter(X_tsne[:,0], X_tsne[:,1], alpha=0.5)\n",
    "plt.title(\"t-SNE - Visualización en 2D\")\n",
    "plt.grid(True)\n",
    "plt.show()"
   ]
  },
  {
   "cell_type": "code",
   "execution_count": null,
   "id": "d2ee2ffb",
   "metadata": {},
   "outputs": [],
   "source": [
    "#Clustering no supervisado\n",
    "kmeans = KMeans(n_clusters=4, random_state=42)\n",
    "labels = kmeans.fit_predict(X_pca)\n",
    "\n",
    "plt.scatter(X_pca[:, 0], X_pca[:, 1], c=labels, cmap='viridis', alpha=0.6)\n",
    "plt.title(\"Clusters con KMeans sobre PCA\")\n",
    "plt.xlabel(\"PC1\")\n",
    "plt.ylabel(\"PC2\")\n",
    "plt.show()"
   ]
  },
  {
   "cell_type": "code",
   "execution_count": null,
   "id": "ae266156",
   "metadata": {},
   "outputs": [],
   "source": [
    "#DBSCAN sobre T-sne\n",
    "# dbscan = DBSCAN(eps=3, min_samples=5)\n",
    "# labels_db = dbscan.fit_predict(X_tsne)\n",
    "\n",
    "# plt.scatter(X_tsne[:, 0], X_tsne[:, 1], c=labels_db, cmap='rainbow')\n",
    "# plt.title(\"Clusters con DBSCAN sobre t-SNE\")\n",
    "# plt.show()"
   ]
  },
  {
   "cell_type": "code",
   "execution_count": null,
   "id": "d0258faf",
   "metadata": {},
   "outputs": [],
   "source": [
    "#Evaluacion de Cluster\n",
    "#Score de silhouette\n",
    "score = silhouette_score(X_pca, labels)\n",
    "print(f\"Silhouette Score: {score}\")\n",
    "df_clusters = df.copy()\n",
    "df_clusters['cluster'] = labels"
   ]
  },
  {
   "cell_type": "code",
   "execution_count": null,
   "id": "c0965e3d",
   "metadata": {},
   "outputs": [],
   "source": [
    "#Union de datos a los originales\n",
    "df_clusters = df.copy()\n",
    "df_clusters['cluster'] = labels\n"
   ]
  },
  {
   "cell_type": "code",
   "execution_count": null,
   "id": "ba7de1ff",
   "metadata": {},
   "outputs": [],
   "source": [
    "#Analizando caracteristicas\n",
    "df_clusters.groupby('cluster')[numerical_cols].mean()"
   ]
  },
  {
   "cell_type": "code",
   "execution_count": null,
   "id": "30c6a8f1",
   "metadata": {},
   "outputs": [],
   "source": [
    "#Genero dominante\n",
    "df_clusters.groupby('cluster')['genre'].agg(lambda x: x.value_counts().index[0])"
   ]
  }
 ],
 "metadata": {
  "kernelspec": {
   "display_name": "Python 3",
   "language": "python",
   "name": "python3"
  },
  "language_info": {
   "codemirror_mode": {
    "name": "ipython",
    "version": 3
   },
   "file_extension": ".py",
   "mimetype": "text/x-python",
   "name": "python",
   "nbconvert_exporter": "python",
   "pygments_lexer": "ipython3",
   "version": "3.10.7"
  }
 },
 "nbformat": 4,
 "nbformat_minor": 5
}
